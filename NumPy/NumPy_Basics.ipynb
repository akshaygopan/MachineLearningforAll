{
  "nbformat": 4,
  "nbformat_minor": 0,
  "metadata": {
    "colab": {
      "provenance": []
    },
    "kernelspec": {
      "name": "python3",
      "display_name": "Python 3"
    },
    "language_info": {
      "name": "python"
    }
  },
  "cells": [
    {
      "cell_type": "markdown",
      "source": [
        "##NumPy Basics"
      ],
      "metadata": {
        "id": "oCCjAH0CgdMh"
      }
    },
    {
      "cell_type": "markdown",
      "source": [
        "##Orange yielding based on climatic conditions (temperature,rainfall,humidity)"
      ],
      "metadata": {
        "id": "wj17qYlQN_IE"
      }
    },
    {
      "cell_type": "markdown",
      "source": [
        "data of climatic conditions in various places"
      ],
      "metadata": {
        "id": "dTdgsKXxOdJJ"
      }
    },
    {
      "cell_type": "code",
      "source": [
        "import math"
      ],
      "metadata": {
        "id": "cPVad34GSR2L"
      },
      "execution_count": null,
      "outputs": []
    },
    {
      "cell_type": "code",
      "execution_count": null,
      "metadata": {
        "id": "bK_japNTNfjH"
      },
      "outputs": [],
      "source": [
        "Kochi = [73,67,43]\n",
        "Hyderabad = [91,88,64]\n",
        "Chennai = [87,134,58]\n",
        "Bangalore = [102,43,37]\n",
        "Mumbai = [69,96,70]"
      ]
    },
    {
      "cell_type": "markdown",
      "source": [
        "weights"
      ],
      "metadata": {
        "id": "2FeliGAkPDGp"
      }
    },
    {
      "cell_type": "code",
      "source": [
        "w1,w2,w3 = 0.3,0.2,0.5\n",
        "\n",
        "weights = [w1,w2,w3]"
      ],
      "metadata": {
        "id": "fwfBf56GPEmo"
      },
      "execution_count": null,
      "outputs": []
    },
    {
      "cell_type": "markdown",
      "source": [
        "Function to calculate the crop yield"
      ],
      "metadata": {
        "id": "D7rnfjM5PgBc"
      }
    },
    {
      "cell_type": "code",
      "source": [
        "%%time\n",
        "def crop_yield(region,weights):\n",
        "  result = 0\n",
        "  for x,w in zip(region,weights):\n",
        "    result += x*w\n",
        "  return math.ceil((result))"
      ],
      "metadata": {
        "colab": {
          "base_uri": "https://localhost:8080/"
        },
        "id": "0qyvHXkGPjRc",
        "outputId": "07cf97db-2245-4885-c40e-ea2244676d7e"
      },
      "execution_count": null,
      "outputs": [
        {
          "output_type": "stream",
          "name": "stdout",
          "text": [
            "CPU times: user 4 µs, sys: 0 ns, total: 4 µs\n",
            "Wall time: 7.39 µs\n"
          ]
        }
      ]
    },
    {
      "cell_type": "code",
      "source": [
        "crop_yield(Kochi,weights)"
      ],
      "metadata": {
        "colab": {
          "base_uri": "https://localhost:8080/"
        },
        "id": "p0nLYIE5bPu9",
        "outputId": "d004985d-9d5e-45c6-c06a-468d9ff8e069"
      },
      "execution_count": null,
      "outputs": [
        {
          "output_type": "execute_result",
          "data": {
            "text/plain": [
              "57"
            ]
          },
          "metadata": {},
          "execution_count": 54
        }
      ]
    },
    {
      "cell_type": "markdown",
      "source": [
        "****************************************************************************************************************************************************************"
      ],
      "metadata": {
        "id": "KzP0IG8YQPkF"
      }
    },
    {
      "cell_type": "markdown",
      "source": [
        "##Now consider same concept using NumPy"
      ],
      "metadata": {
        "id": "_lhNKC8dbSjd"
      }
    },
    {
      "cell_type": "code",
      "source": [
        "import numpy as np"
      ],
      "metadata": {
        "id": "xCtBNcTSbaGs"
      },
      "execution_count": null,
      "outputs": []
    },
    {
      "cell_type": "code",
      "source": [
        "Kochi= np.array([73,67,43])\n",
        "Hyderabad = np.array([91,88,64])\n",
        "Chennai = np.array([87,134,58])\n",
        "Bangalore = np.array([102,43,37])\n",
        "Mumbai = np.array([69,96,70])"
      ],
      "metadata": {
        "id": "XytSVkxYbcfR"
      },
      "execution_count": null,
      "outputs": []
    },
    {
      "cell_type": "code",
      "source": [
        "w1,w2,w3 = 0.3,0.2,0.5\n",
        "\n",
        "weights = np.array([w1,w2,w3])"
      ],
      "metadata": {
        "id": "QL6Tf_PcdH_y"
      },
      "execution_count": null,
      "outputs": []
    },
    {
      "cell_type": "code",
      "source": [
        "weights"
      ],
      "metadata": {
        "colab": {
          "base_uri": "https://localhost:8080/"
        },
        "id": "XqKKgdYYyTet",
        "outputId": "b6c03e9d-4164-4afa-c329-1588039851f2"
      },
      "execution_count": null,
      "outputs": [
        {
          "output_type": "execute_result",
          "data": {
            "text/plain": [
              "array([0.3, 0.2, 0.5])"
            ]
          },
          "metadata": {},
          "execution_count": 36
        }
      ]
    },
    {
      "cell_type": "code",
      "source": [
        "(Kochi * weights).sum()"
      ],
      "metadata": {
        "colab": {
          "base_uri": "https://localhost:8080/"
        },
        "id": "NF9HfONfd9J2",
        "outputId": "06a294c7-bd04-46b9-d8e6-ec088806aab6"
      },
      "execution_count": null,
      "outputs": [
        {
          "output_type": "execute_result",
          "data": {
            "text/plain": [
              "56.8"
            ]
          },
          "metadata": {},
          "execution_count": 53
        }
      ]
    },
    {
      "cell_type": "code",
      "source": [
        "%%time\n",
        "np.dot(Kochi,weights).sum()"
      ],
      "metadata": {
        "colab": {
          "base_uri": "https://localhost:8080/"
        },
        "id": "ZPl0Q9YXcAhM",
        "outputId": "01f87521-ad20-43dd-873b-4e34530ebc73"
      },
      "execution_count": null,
      "outputs": [
        {
          "output_type": "stream",
          "name": "stdout",
          "text": [
            "CPU times: user 92 µs, sys: 12 µs, total: 104 µs\n",
            "Wall time: 97.5 µs\n"
          ]
        },
        {
          "output_type": "execute_result",
          "data": {
            "text/plain": [
              "56.8"
            ]
          },
          "metadata": {},
          "execution_count": 58
        }
      ]
    },
    {
      "cell_type": "markdown",
      "source": [
        "****************************************************************************************************************************************************************"
      ],
      "metadata": {
        "id": "Du77PzUrQT9k"
      }
    },
    {
      "cell_type": "markdown",
      "source": [
        " Calculate Orange yield based on soil pH, sunlight hours, and irrigation frequency."
      ],
      "metadata": {
        "id": "Vpj5y8dPTQJC"
      }
    },
    {
      "cell_type": "markdown",
      "source": [
        "data at different places"
      ],
      "metadata": {
        "id": "8B_4dQjfUvlw"
      }
    },
    {
      "cell_type": "code",
      "source": [
        "import math"
      ],
      "metadata": {
        "id": "vupwLekaU-W9"
      },
      "execution_count": null,
      "outputs": []
    },
    {
      "cell_type": "code",
      "source": [
        "Kochi = [45,63,27]\n",
        "Hyderabad = [43,88,23]\n",
        "Chennai = [87,134,35]\n",
        "Bangalore = [102,43,46]\n",
        "Mumbai = [69,96,50]"
      ],
      "metadata": {
        "id": "O8RAu0hhTP0o"
      },
      "execution_count": null,
      "outputs": []
    },
    {
      "cell_type": "code",
      "source": [
        "w1,w2,w3 = 0.2,0.4,0.7\n",
        "\n",
        "weights = [w1,w2,w3]"
      ],
      "metadata": {
        "id": "cKQgPmK4VGYh"
      },
      "execution_count": null,
      "outputs": []
    },
    {
      "cell_type": "code",
      "source": [],
      "metadata": {
        "id": "W10eozP7yRqe"
      },
      "execution_count": null,
      "outputs": []
    },
    {
      "cell_type": "code",
      "source": [
        "def orange_yield(region,weights):\n",
        "  result = 0\n",
        "  for x,w in zip(region,weights):\n",
        "    result += x*w\n",
        "    return math.ceil((result))"
      ],
      "metadata": {
        "id": "HQEGXN5DUnz5"
      },
      "execution_count": null,
      "outputs": []
    },
    {
      "cell_type": "markdown",
      "source": [
        "Try Determine Wheat yield based on temperature, soil moisture, and fertilizer usage."
      ],
      "metadata": {
        "id": "NVoiR6YjUmcM"
      }
    },
    {
      "cell_type": "markdown",
      "source": [
        "***********************************************************************************************************************************************************************************************"
      ],
      "metadata": {
        "id": "Yy9q6jEIXv1i"
      }
    },
    {
      "cell_type": "markdown",
      "source": [
        "##Numpy array representation"
      ],
      "metadata": {
        "id": "0rl_tgTj4FeQ"
      }
    },
    {
      "cell_type": "code",
      "source": [
        "Climate_data = np.array ([[45,63,27],\n",
        "                          [43,88,23],\n",
        "                          [87,134,35],\n",
        "                          [102,43,46],\n",
        "                          [69,96,50]])\n"
      ],
      "metadata": {
        "id": "cIHyZllHXvjh"
      },
      "execution_count": null,
      "outputs": []
    },
    {
      "cell_type": "code",
      "source": [
        "np.reshape(Climate_data,(3,5))"
      ],
      "metadata": {
        "colab": {
          "base_uri": "https://localhost:8080/"
        },
        "id": "F0B0Ah_zfU8V",
        "outputId": "622d0c32-0eba-4f3e-fc60-9f4e4629cde4"
      },
      "execution_count": null,
      "outputs": [
        {
          "output_type": "execute_result",
          "data": {
            "text/plain": [
              "array([[ 45,  63,  27,  43,  88],\n",
              "       [ 23,  87, 134,  35, 102],\n",
              "       [ 43,  46,  69,  96,  50]])"
            ]
          },
          "metadata": {},
          "execution_count": 24
        }
      ]
    },
    {
      "cell_type": "markdown",
      "source": [
        "length of the dimension"
      ],
      "metadata": {
        "id": "pj0HoU9qaVOx"
      }
    },
    {
      "cell_type": "code",
      "source": [
        "Climate_data.shape"
      ],
      "metadata": {
        "colab": {
          "base_uri": "https://localhost:8080/"
        },
        "id": "iTs1gNutaX2Z",
        "outputId": "70d1383d-84a0-4825-cbb0-0e35b257aebf"
      },
      "execution_count": null,
      "outputs": [
        {
          "output_type": "execute_result",
          "data": {
            "text/plain": [
              "(5, 3)"
            ]
          },
          "metadata": {},
          "execution_count": 5
        }
      ]
    },
    {
      "cell_type": "code",
      "source": [
        "Climate_datas = np.array ([[[45,63,27],\n",
        "                          [43,88,23,]],\n",
        "\n",
        "                          [\n",
        "                          [102,43,46],\n",
        "                          [69,96,50]]])\n"
      ],
      "metadata": {
        "id": "40qr7otDcqNY"
      },
      "execution_count": null,
      "outputs": []
    },
    {
      "cell_type": "code",
      "source": [
        "Climate_datas.shape"
      ],
      "metadata": {
        "colab": {
          "base_uri": "https://localhost:8080/"
        },
        "id": "RuoOAPv9ey0t",
        "outputId": "5e9f021f-ccf8-41a1-c811-ca56b6c6d540"
      },
      "execution_count": null,
      "outputs": [
        {
          "output_type": "execute_result",
          "data": {
            "text/plain": [
              "(2, 2, 3)"
            ]
          },
          "metadata": {},
          "execution_count": 16
        }
      ]
    },
    {
      "cell_type": "markdown",
      "source": [
        "****************************************************************************************************************************************************************"
      ],
      "metadata": {
        "id": "V_CZtGvOQ0Ps"
      }
    },
    {
      "cell_type": "markdown",
      "source": [
        "#finding the same orange yield using numpy functions"
      ],
      "metadata": {
        "id": "pj6EDPP-3_1c"
      }
    },
    {
      "cell_type": "code",
      "source": [
        "new_Climate_data = np.array([[73,67,43],\n",
        "                             [91,88,64],\n",
        "                             [87,134,58],\n",
        "                             [102,43,37],\n",
        "                             [69,96,70]])"
      ],
      "metadata": {
        "id": "qlXqIyfhXvSE"
      },
      "execution_count": null,
      "outputs": []
    },
    {
      "cell_type": "code",
      "source": [
        "weights = np.array([w1,w2,w3])"
      ],
      "metadata": {
        "id": "Wu4gR0Z-zuTL"
      },
      "execution_count": null,
      "outputs": []
    },
    {
      "cell_type": "code",
      "source": [
        " np.matmul(new_Climate_data,weights)"
      ],
      "metadata": {
        "colab": {
          "base_uri": "https://localhost:8080/"
        },
        "id": "EXX1nPlJqxfr",
        "outputId": "2f141a2c-e454-4b1f-c16d-d318fff50e8c"
      },
      "execution_count": null,
      "outputs": [
        {
          "output_type": "execute_result",
          "data": {
            "text/plain": [
              "array([56.8, 76.9, 81.9, 57.7, 74.9])"
            ]
          },
          "metadata": {},
          "execution_count": 42
        }
      ]
    },
    {
      "cell_type": "code",
      "source": [
        "np.dot(new_Climate_data,weights)"
      ],
      "metadata": {
        "colab": {
          "base_uri": "https://localhost:8080/"
        },
        "id": "7bL6tTUL2Kie",
        "outputId": "41db4b99-be3f-4261-86c7-378404f999df"
      },
      "execution_count": null,
      "outputs": [
        {
          "output_type": "execute_result",
          "data": {
            "text/plain": [
              "array([56.8, 76.9, 81.9, 57.7, 74.9])"
            ]
          },
          "metadata": {},
          "execution_count": 43
        }
      ]
    },
    {
      "cell_type": "code",
      "source": [
        "Orange_yield = new_Climate_data @ weights"
      ],
      "metadata": {
        "id": "zxXqlr83rPcm"
      },
      "execution_count": null,
      "outputs": []
    },
    {
      "cell_type": "markdown",
      "source": [
        "********************************************************************************************************************************************************************************************************************************************************************************************************************************"
      ],
      "metadata": {
        "id": "VzOFqyGEAHET"
      }
    },
    {
      "cell_type": "markdown",
      "source": [
        "#Trying this problem in real code environment"
      ],
      "metadata": {
        "id": "8PuHYVEaAM9D"
      }
    },
    {
      "cell_type": "code",
      "source": [
        "import os"
      ],
      "metadata": {
        "id": "-KC8jw5GJmrW"
      },
      "execution_count": null,
      "outputs": []
    },
    {
      "cell_type": "code",
      "source": [
        "#filename = \"climate.csv\"\n",
        "txt_filename = \"climate.txt\"\n",
        "\n",
        "#os.rename(filename,txtfilename)\n",
        "\n",
        "\n",
        "climate_data = np.genfromtxt(txt_filename, delimiter=',', skip_header=1)\n"
      ],
      "metadata": {
        "id": "KW1UHrQ3Gd0R"
      },
      "execution_count": null,
      "outputs": []
    },
    {
      "cell_type": "code",
      "source": [
        "climate_data"
      ],
      "metadata": {
        "colab": {
          "base_uri": "https://localhost:8080/"
        },
        "id": "VqS7lsbFJFHP",
        "outputId": "470e5e03-291f-4bc6-8c59-954873cb3bda"
      },
      "execution_count": null,
      "outputs": [
        {
          "output_type": "execute_result",
          "data": {
            "text/plain": [
              "array([[25., 76., 99.],\n",
              "       [39., 65., 70.],\n",
              "       [59., 45., 77.],\n",
              "       ...,\n",
              "       [99., 62., 58.],\n",
              "       [70., 71., 91.],\n",
              "       [92., 39., 76.]])"
            ]
          },
          "metadata": {},
          "execution_count": 81
        }
      ]
    },
    {
      "cell_type": "code",
      "source": [
        "climate_data.shape"
      ],
      "metadata": {
        "colab": {
          "base_uri": "https://localhost:8080/"
        },
        "id": "99p5auicLBHT",
        "outputId": "0c314a59-5056-450c-8bad-dd1189aec98f"
      },
      "execution_count": null,
      "outputs": [
        {
          "output_type": "execute_result",
          "data": {
            "text/plain": [
              "(10000, 3)"
            ]
          },
          "metadata": {},
          "execution_count": 84
        }
      ]
    },
    {
      "cell_type": "code",
      "source": [
        "weights = np.array([0.3,0.2,0.5])"
      ],
      "metadata": {
        "id": "fEbCMSioLK5y"
      },
      "execution_count": null,
      "outputs": []
    },
    {
      "cell_type": "code",
      "source": [
        "orange_yield = climate_data @ weights"
      ],
      "metadata": {
        "id": "hyuTY7WdLUuC"
      },
      "execution_count": null,
      "outputs": []
    },
    {
      "cell_type": "code",
      "source": [
        "orange_yield"
      ],
      "metadata": {
        "colab": {
          "base_uri": "https://localhost:8080/"
        },
        "id": "toRLMUmuLguj",
        "outputId": "cfcdf52a-4355-4060-f497-4e8dfb9c2fb5"
      },
      "execution_count": null,
      "outputs": [
        {
          "output_type": "execute_result",
          "data": {
            "text/plain": [
              "array([72.2, 59.7, 65.2, ..., 71.1, 80.7, 73.4])"
            ]
          },
          "metadata": {},
          "execution_count": 97
        }
      ]
    },
    {
      "cell_type": "code",
      "source": [
        "orange_yield.shape"
      ],
      "metadata": {
        "colab": {
          "base_uri": "https://localhost:8080/"
        },
        "id": "y-5S4Um3LjHz",
        "outputId": "1934dc1a-9aeb-4e2e-861e-09c97603010f"
      },
      "execution_count": null,
      "outputs": [
        {
          "output_type": "execute_result",
          "data": {
            "text/plain": [
              "(10000,)"
            ]
          },
          "metadata": {},
          "execution_count": 98
        }
      ]
    },
    {
      "cell_type": "code",
      "source": [
        "climate_result = np.concatenate((climate_data,orange_yield.reshape(10000,1)),axis=1)"
      ],
      "metadata": {
        "id": "YzBw_pwbLm7j"
      },
      "execution_count": null,
      "outputs": []
    },
    {
      "cell_type": "code",
      "source": [
        "climate_result"
      ],
      "metadata": {
        "colab": {
          "base_uri": "https://localhost:8080/"
        },
        "id": "P9K3Nv8GMPYV",
        "outputId": "21cea329-eb12-4895-91b1-72bcb12297e8"
      },
      "execution_count": null,
      "outputs": [
        {
          "output_type": "execute_result",
          "data": {
            "text/plain": [
              "array([[25. , 76. , 99. , 72.2],\n",
              "       [39. , 65. , 70. , 59.7],\n",
              "       [59. , 45. , 77. , 65.2],\n",
              "       ...,\n",
              "       [99. , 62. , 58. , 71.1],\n",
              "       [70. , 71. , 91. , 80.7],\n",
              "       [92. , 39. , 76. , 73.4]])"
            ]
          },
          "metadata": {},
          "execution_count": 100
        }
      ]
    },
    {
      "cell_type": "code",
      "source": [
        "np.savetxt(\"climate_results.txt\",climate_result, fmt='%.2f', header=' soil_pH, sunlight_hours,irrigation_frequency,orange_yield',comments=\"\")"
      ],
      "metadata": {
        "id": "20Eu1PiURmuC"
      },
      "execution_count": null,
      "outputs": []
    },
    {
      "cell_type": "markdown",
      "source": [
        "****************************************************************************************************************************************************************"
      ],
      "metadata": {
        "id": "w2TMw4Zhh6MS"
      }
    },
    {
      "cell_type": "markdown",
      "source": [
        "##Array indexing and slicing"
      ],
      "metadata": {
        "id": "KJddwyb_h9Bq"
      }
    },
    {
      "cell_type": "code",
      "source": [
        " arr3 = np.array([[[11,12,13,14],\n",
        "                  [13,14,15,19]],\n",
        "\n",
        "                  [[15,16,17,21],\n",
        "                  [63,92,36,18]],\n",
        "\n",
        "                  [[98,32,81,23],\n",
        "                  [17,18,19.5,43]]])"
      ],
      "metadata": {
        "id": "ALGUCncXVsDH"
      },
      "execution_count": null,
      "outputs": []
    },
    {
      "cell_type": "code",
      "source": [
        "arr3.shape"
      ],
      "metadata": {
        "colab": {
          "base_uri": "https://localhost:8080/"
        },
        "id": "R02x0kderTRR",
        "outputId": "83c658e1-8035-4f9b-bcf9-06906edaa2ca"
      },
      "execution_count": null,
      "outputs": [
        {
          "output_type": "execute_result",
          "data": {
            "text/plain": [
              "(3, 2, 4)"
            ]
          },
          "metadata": {},
          "execution_count": 107
        }
      ]
    },
    {
      "cell_type": "code",
      "source": [
        "arr3[1,1,2]"
      ],
      "metadata": {
        "colab": {
          "base_uri": "https://localhost:8080/"
        },
        "id": "_QeGfh1mrb7A",
        "outputId": "6a8a693c-b0ce-45e1-d6b4-99a598a3a0b5"
      },
      "execution_count": null,
      "outputs": [
        {
          "output_type": "execute_result",
          "data": {
            "text/plain": [
              "36.0"
            ]
          },
          "metadata": {},
          "execution_count": 108
        }
      ]
    },
    {
      "cell_type": "code",
      "source": [
        "arr3[2,0,3]"
      ],
      "metadata": {
        "colab": {
          "base_uri": "https://localhost:8080/"
        },
        "id": "8nTvweRLrmQR",
        "outputId": "8710413b-5bfc-444e-c428-bc06c534c138"
      },
      "execution_count": null,
      "outputs": [
        {
          "output_type": "execute_result",
          "data": {
            "text/plain": [
              "23.0"
            ]
          },
          "metadata": {},
          "execution_count": 109
        }
      ]
    },
    {
      "cell_type": "markdown",
      "source": [
        "Range"
      ],
      "metadata": {
        "id": "ka55lNQmr25R"
      }
    },
    {
      "cell_type": "code",
      "source": [
        "arr3[1:,0:1,:2]"
      ],
      "metadata": {
        "colab": {
          "base_uri": "https://localhost:8080/"
        },
        "id": "wphcEL0yr51z",
        "outputId": "fc9bfc6d-ce2d-4492-e713-7d146ce8d12e"
      },
      "execution_count": null,
      "outputs": [
        {
          "output_type": "execute_result",
          "data": {
            "text/plain": [
              "array([[[15., 16.]],\n",
              "\n",
              "       [[98., 32.]]])"
            ]
          },
          "metadata": {},
          "execution_count": 110
        }
      ]
    },
    {
      "cell_type": "code",
      "source": [
        "arr3[0:2,0:1,2:]"
      ],
      "metadata": {
        "colab": {
          "base_uri": "https://localhost:8080/"
        },
        "id": "fhdjOQwzsSWe",
        "outputId": "28231287-4d1c-4202-e901-88ad5cd7baf1"
      },
      "execution_count": null,
      "outputs": [
        {
          "output_type": "execute_result",
          "data": {
            "text/plain": [
              "array([[[13., 14.]],\n",
              "\n",
              "       [[17., 21.]]])"
            ]
          },
          "metadata": {},
          "execution_count": 111
        }
      ]
    },
    {
      "cell_type": "markdown",
      "source": [
        "Indices and range"
      ],
      "metadata": {
        "id": "0ZyAOQBfs2B9"
      }
    },
    {
      "cell_type": "code",
      "source": [
        "arr3[1:,1,2]"
      ],
      "metadata": {
        "colab": {
          "base_uri": "https://localhost:8080/"
        },
        "id": "yFYH-bM9s78o",
        "outputId": "346ea3be-1dac-4635-8ae8-1bef9a568ede"
      },
      "execution_count": null,
      "outputs": [
        {
          "output_type": "execute_result",
          "data": {
            "text/plain": [
              "array([36. , 19.5])"
            ]
          },
          "metadata": {},
          "execution_count": 112
        }
      ]
    },
    {
      "cell_type": "markdown",
      "source": [
        "##Different ways to create Numpy"
      ],
      "metadata": {
        "id": "ih2t024YF8Si"
      }
    },
    {
      "cell_type": "code",
      "source": [
        "#all zeros\n",
        "np.zeros((4,4))\n"
      ],
      "metadata": {
        "colab": {
          "base_uri": "https://localhost:8080/"
        },
        "id": "d7uxUwdjF64W",
        "outputId": "30fb4495-d946-4ba9-8fd6-8fa8e405eac9"
      },
      "execution_count": null,
      "outputs": [
        {
          "output_type": "execute_result",
          "data": {
            "text/plain": [
              "array([[0., 0., 0., 0.],\n",
              "       [0., 0., 0., 0.],\n",
              "       [0., 0., 0., 0.],\n",
              "       [0., 0., 0., 0.]])"
            ]
          },
          "metadata": {},
          "execution_count": 4
        }
      ]
    },
    {
      "cell_type": "code",
      "source": [
        "#all ones\n",
        "np.ones([2,2,3])"
      ],
      "metadata": {
        "colab": {
          "base_uri": "https://localhost:8080/"
        },
        "id": "v4e7O0NnGDa2",
        "outputId": "c407255f-a430-4671-c888-1cc341ab5241"
      },
      "execution_count": null,
      "outputs": [
        {
          "output_type": "execute_result",
          "data": {
            "text/plain": [
              "array([[[1., 1., 1.],\n",
              "        [1., 1., 1.]],\n",
              "\n",
              "       [[1., 1., 1.],\n",
              "        [1., 1., 1.]]])"
            ]
          },
          "metadata": {},
          "execution_count": 6
        }
      ]
    },
    {
      "cell_type": "code",
      "source": [
        "#identity matrix(diagonal)\n",
        "np.eye(4)"
      ],
      "metadata": {
        "colab": {
          "base_uri": "https://localhost:8080/"
        },
        "id": "D6cxe3irGqzj",
        "outputId": "a1f36c92-fb81-4008-91b6-6d33e147c73f"
      },
      "execution_count": null,
      "outputs": [
        {
          "output_type": "execute_result",
          "data": {
            "text/plain": [
              "array([[1., 0., 0., 0.],\n",
              "       [0., 1., 0., 0.],\n",
              "       [0., 0., 1., 0.],\n",
              "       [0., 0., 0., 1.]])"
            ]
          },
          "metadata": {},
          "execution_count": 7
        }
      ]
    },
    {
      "cell_type": "code",
      "source": [
        "#random vector\n",
        "np.random.rand(7)"
      ],
      "metadata": {
        "colab": {
          "base_uri": "https://localhost:8080/"
        },
        "id": "vOn8nKH9G0pO",
        "outputId": "7110951e-e00d-4a79-e205-44fba976ebc2"
      },
      "execution_count": null,
      "outputs": [
        {
          "output_type": "execute_result",
          "data": {
            "text/plain": [
              "array([0.25464513, 0.22917186, 0.2660235 , 0.30956083, 0.91123116,\n",
              "       0.71507391, 0.97173843])"
            ]
          },
          "metadata": {},
          "execution_count": 8
        }
      ]
    },
    {
      "cell_type": "code",
      "source": [
        "#random matrix\n",
        "np.random.randn(6,2)"
      ],
      "metadata": {
        "colab": {
          "base_uri": "https://localhost:8080/"
        },
        "id": "_AAu-aRZG-sF",
        "outputId": "63fefdce-5ba2-481c-b5e2-fdb34539e167"
      },
      "execution_count": null,
      "outputs": [
        {
          "output_type": "execute_result",
          "data": {
            "text/plain": [
              "array([[-1.00055514, -0.57297138],\n",
              "       [-0.58516891,  0.03673877],\n",
              "       [ 0.6955743 , -0.35646852],\n",
              "       [-0.22729325, -0.0149967 ],\n",
              "       [ 1.02140723, -1.3785221 ],\n",
              "       [-0.38100414,  0.71311363]])"
            ]
          },
          "metadata": {},
          "execution_count": 10
        }
      ]
    },
    {
      "cell_type": "code",
      "source": [
        "#fixed value\n",
        "np.full([3,3],4)"
      ],
      "metadata": {
        "colab": {
          "base_uri": "https://localhost:8080/"
        },
        "id": "xmCYH_8XHVCg",
        "outputId": "8f1e9857-fcf7-432a-e418-ca57faaf93d6"
      },
      "execution_count": null,
      "outputs": [
        {
          "output_type": "execute_result",
          "data": {
            "text/plain": [
              "array([[4, 4, 4],\n",
              "       [4, 4, 4],\n",
              "       [4, 4, 4]])"
            ]
          },
          "metadata": {},
          "execution_count": 11
        }
      ]
    },
    {
      "cell_type": "code",
      "source": [
        "#range with start,end and step\n",
        "np.arange(10,90,3)"
      ],
      "metadata": {
        "colab": {
          "base_uri": "https://localhost:8080/"
        },
        "id": "85MhbOz9Hl2N",
        "outputId": "23f7a44f-a8f3-4fa0-8c3d-90c4808026d8"
      },
      "execution_count": null,
      "outputs": [
        {
          "output_type": "execute_result",
          "data": {
            "text/plain": [
              "array([10, 13, 16, 19, 22, 25, 28, 31, 34, 37, 40, 43, 46, 49, 52, 55, 58,\n",
              "       61, 64, 67, 70, 73, 76, 79, 82, 85, 88])"
            ]
          },
          "metadata": {},
          "execution_count": 12
        }
      ]
    },
    {
      "cell_type": "code",
      "source": [
        "np.arange(10,90,3).reshape(3,3,3)"
      ],
      "metadata": {
        "colab": {
          "base_uri": "https://localhost:8080/"
        },
        "id": "evcwJbFPHzUq",
        "outputId": "5c197a3e-fb50-4579-ed03-8f3ef306c59c"
      },
      "execution_count": null,
      "outputs": [
        {
          "output_type": "execute_result",
          "data": {
            "text/plain": [
              "array([[[10, 13, 16],\n",
              "        [19, 22, 25],\n",
              "        [28, 31, 34]],\n",
              "\n",
              "       [[37, 40, 43],\n",
              "        [46, 49, 52],\n",
              "        [55, 58, 61]],\n",
              "\n",
              "       [[64, 67, 70],\n",
              "        [73, 76, 79],\n",
              "        [82, 85, 88]]])"
            ]
          },
          "metadata": {},
          "execution_count": 21
        }
      ]
    },
    {
      "cell_type": "code",
      "source": [
        "np.linspace(4,50,20)"
      ],
      "metadata": {
        "colab": {
          "base_uri": "https://localhost:8080/"
        },
        "id": "kEe_7EYNJWlp",
        "outputId": "ff6127b6-134d-4cc2-8ce7-12111bbb93c8"
      },
      "execution_count": null,
      "outputs": [
        {
          "output_type": "execute_result",
          "data": {
            "text/plain": [
              "array([ 4.        ,  6.42105263,  8.84210526, 11.26315789, 13.68421053,\n",
              "       16.10526316, 18.52631579, 20.94736842, 23.36842105, 25.78947368,\n",
              "       28.21052632, 30.63157895, 33.05263158, 35.47368421, 37.89473684,\n",
              "       40.31578947, 42.73684211, 45.15789474, 47.57894737, 50.        ])"
            ]
          },
          "metadata": {},
          "execution_count": 23
        }
      ]
    }
  ]
}